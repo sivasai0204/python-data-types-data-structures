{
 "cells": [
  {
   "cell_type": "markdown",
   "id": "be0e2eda",
   "metadata": {},
   "source": [
    "## Data types"
   ]
  },
  {
   "cell_type": "code",
   "execution_count": 5,
   "id": "e3399223",
   "metadata": {},
   "outputs": [
    {
     "data": {
      "text/plain": [
       "10"
      ]
     },
     "execution_count": 5,
     "metadata": {},
     "output_type": "execute_result"
    }
   ],
   "source": [
    "x = 10\n",
    "x"
   ]
  },
  {
   "cell_type": "code",
   "execution_count": 6,
   "id": "eb894b96",
   "metadata": {},
   "outputs": [
    {
     "name": "stdout",
     "output_type": "stream",
     "text": [
      "10\n"
     ]
    }
   ],
   "source": [
    "print(x)"
   ]
  },
  {
   "cell_type": "code",
   "execution_count": 7,
   "id": "d215ed0a",
   "metadata": {},
   "outputs": [
    {
     "data": {
      "text/plain": [
       "int"
      ]
     },
     "execution_count": 7,
     "metadata": {},
     "output_type": "execute_result"
    }
   ],
   "source": [
    "type(x)"
   ]
  },
  {
   "cell_type": "code",
   "execution_count": 8,
   "id": "822b471f",
   "metadata": {},
   "outputs": [],
   "source": [
    "x = 10.3"
   ]
  },
  {
   "cell_type": "code",
   "execution_count": 9,
   "id": "ab2d3c9d",
   "metadata": {},
   "outputs": [
    {
     "data": {
      "text/plain": [
       "float"
      ]
     },
     "execution_count": 9,
     "metadata": {},
     "output_type": "execute_result"
    }
   ],
   "source": [
    "type(x)"
   ]
  },
  {
   "cell_type": "code",
   "execution_count": 10,
   "id": "1ce0be1f",
   "metadata": {},
   "outputs": [
    {
     "data": {
      "text/plain": [
       "'latha'"
      ]
     },
     "execution_count": 10,
     "metadata": {},
     "output_type": "execute_result"
    }
   ],
   "source": [
    "y = \"latha\"\n",
    "y"
   ]
  },
  {
   "cell_type": "code",
   "execution_count": 11,
   "id": "5e074911",
   "metadata": {},
   "outputs": [
    {
     "data": {
      "text/plain": [
       "str"
      ]
     },
     "execution_count": 11,
     "metadata": {},
     "output_type": "execute_result"
    }
   ],
   "source": [
    "type(y)"
   ]
  },
  {
   "cell_type": "code",
   "execution_count": 12,
   "id": "2dfbec7a",
   "metadata": {},
   "outputs": [
    {
     "data": {
      "text/plain": [
       "str"
      ]
     },
     "execution_count": 12,
     "metadata": {},
     "output_type": "execute_result"
    }
   ],
   "source": [
    "course = \"ai\"\n",
    "course\n",
    "type(course)"
   ]
  },
  {
   "cell_type": "markdown",
   "id": "f9dd845a",
   "metadata": {},
   "source": [
    "#### Rules for naming varibales"
   ]
  },
  {
   "cell_type": "code",
   "execution_count": 13,
   "id": "03e66138",
   "metadata": {},
   "outputs": [
    {
     "data": {
      "text/plain": [
       "['python', 'ai', 'ds']"
      ]
     },
     "execution_count": 13,
     "metadata": {},
     "output_type": "execute_result"
    }
   ],
   "source": [
    "book_names = [\"python\",\"ai\",\"ds\"]\n",
    "book_names"
   ]
  },
  {
   "cell_type": "markdown",
   "id": "27cc67bb",
   "metadata": {},
   "source": [
    "#### space is not allowed\n",
    "#### only allowed spl character in underscore\n",
    "#### variable name should not start with a number\n",
    "#### variable name should start with A-Z,a-z"
   ]
  },
  {
   "cell_type": "markdown",
   "id": "9711af9d",
   "metadata": {},
   "source": [
    "## Data Structures"
   ]
  },
  {
   "cell_type": "markdown",
   "id": "f4b5bf66",
   "metadata": {},
   "source": [
    "### Lists\n",
    "####  Square bracket [ ]\n",
    "### we can retrieve elements using index and index start from 0\n",
    "### mutable->we can make the changes"
   ]
  },
  {
   "cell_type": "code",
   "execution_count": 17,
   "id": "003496b3",
   "metadata": {},
   "outputs": [
    {
     "data": {
      "text/plain": [
       "[1, 2, 3, 4, 5, 1, 'hi']"
      ]
     },
     "execution_count": 17,
     "metadata": {},
     "output_type": "execute_result"
    }
   ],
   "source": [
    "sample_list = [1,2,3,4.5,5,1,\"hi\"]\n",
    "sample_list"
   ]
  },
  {
   "cell_type": "code",
   "execution_count": 18,
   "id": "3f6c4f3b",
   "metadata": {},
   "outputs": [
    {
     "data": {
      "text/plain": [
       "list"
      ]
     },
     "execution_count": 18,
     "metadata": {},
     "output_type": "execute_result"
    }
   ],
   "source": [
    "type(sample_list)"
   ]
  },
  {
   "cell_type": "code",
   "execution_count": 19,
   "id": "029cdbdb",
   "metadata": {},
   "outputs": [
    {
     "data": {
      "text/plain": [
       "1"
      ]
     },
     "execution_count": 19,
     "metadata": {},
     "output_type": "execute_result"
    }
   ],
   "source": [
    "sample_list[0]"
   ]
  },
  {
   "cell_type": "code",
   "execution_count": 20,
   "id": "258c4012",
   "metadata": {},
   "outputs": [
    {
     "ename": "IndexError",
     "evalue": "list index out of range",
     "output_type": "error",
     "traceback": [
      "\u001b[1;31m---------------------------------------------------------------------------\u001b[0m",
      "\u001b[1;31mIndexError\u001b[0m                                Traceback (most recent call last)",
      "Input \u001b[1;32mIn [20]\u001b[0m, in \u001b[0;36m<cell line: 1>\u001b[1;34m()\u001b[0m\n\u001b[1;32m----> 1\u001b[0m \u001b[43msample_list\u001b[49m\u001b[43m[\u001b[49m\u001b[38;5;241;43m10\u001b[39;49m\u001b[43m]\u001b[49m\n",
      "\u001b[1;31mIndexError\u001b[0m: list index out of range"
     ]
    }
   ],
   "source": [
    "sample_list[10]"
   ]
  },
  {
   "cell_type": "code",
   "execution_count": 22,
   "id": "c1053d24",
   "metadata": {},
   "outputs": [],
   "source": [
    "sample_list[0] = 100"
   ]
  },
  {
   "cell_type": "markdown",
   "id": "3de42fc4",
   "metadata": {},
   "source": [
    "sample_list"
   ]
  },
  {
   "cell_type": "code",
   "execution_count": 23,
   "id": "139629be",
   "metadata": {},
   "outputs": [
    {
     "data": {
      "text/plain": [
       "[100, 2, 3, 4, 5, 1, 'hi']"
      ]
     },
     "execution_count": 23,
     "metadata": {},
     "output_type": "execute_result"
    }
   ],
   "source": [
    "sample_list"
   ]
  },
  {
   "cell_type": "markdown",
   "id": "9f691a40",
   "metadata": {},
   "source": [
    "### Tuple\n",
    "#### paranthesis ( )\n",
    "### we can retrieve elements using index and index start from 0\n",
    "### mutable->we can not make the changes"
   ]
  },
  {
   "cell_type": "code",
   "execution_count": 27,
   "id": "17691145",
   "metadata": {},
   "outputs": [
    {
     "data": {
      "text/plain": [
       "(1, 2, 3, 4.5, 5, 1, 'hi')"
      ]
     },
     "execution_count": 27,
     "metadata": {},
     "output_type": "execute_result"
    }
   ],
   "source": [
    "sample_tuple = (1,2,3,4.5,5,1,\"hi\")\n",
    "sample_tuple"
   ]
  },
  {
   "cell_type": "code",
   "execution_count": 28,
   "id": "df16cc5a",
   "metadata": {},
   "outputs": [
    {
     "data": {
      "text/plain": [
       "tuple"
      ]
     },
     "execution_count": 28,
     "metadata": {},
     "output_type": "execute_result"
    }
   ],
   "source": [
    "type(sample_tuple)"
   ]
  },
  {
   "cell_type": "code",
   "execution_count": 29,
   "id": "5dfff859",
   "metadata": {},
   "outputs": [
    {
     "data": {
      "text/plain": [
       "1"
      ]
     },
     "execution_count": 29,
     "metadata": {},
     "output_type": "execute_result"
    }
   ],
   "source": [
    "sample_tuple[0]"
   ]
  },
  {
   "cell_type": "code",
   "execution_count": 30,
   "id": "453f9b06",
   "metadata": {},
   "outputs": [
    {
     "ename": "TypeError",
     "evalue": "'tuple' object does not support item assignment",
     "output_type": "error",
     "traceback": [
      "\u001b[1;31m---------------------------------------------------------------------------\u001b[0m",
      "\u001b[1;31mTypeError\u001b[0m                                 Traceback (most recent call last)",
      "Input \u001b[1;32mIn [30]\u001b[0m, in \u001b[0;36m<cell line: 1>\u001b[1;34m()\u001b[0m\n\u001b[1;32m----> 1\u001b[0m sample_tuple[\u001b[38;5;241m0\u001b[39m] \u001b[38;5;241m=\u001b[39m \u001b[38;5;241m100\u001b[39m\n",
      "\u001b[1;31mTypeError\u001b[0m: 'tuple' object does not support item assignment"
     ]
    }
   ],
   "source": [
    "sample_tuple[0] =100"
   ]
  },
  {
   "cell_type": "markdown",
   "id": "d77b26df",
   "metadata": {},
   "source": [
    "### {}\n",
    "### Duplication are not allowed\n",
    "### arranged according to first place\n",
    "### cannot access using index\n",
    "### set is mutable"
   ]
  },
  {
   "cell_type": "code",
   "execution_count": 32,
   "id": "d64a295f",
   "metadata": {},
   "outputs": [
    {
     "data": {
      "text/plain": [
       "{1, 2, 3, 35.6, 4, 'hi'}"
      ]
     },
     "execution_count": 32,
     "metadata": {},
     "output_type": "execute_result"
    }
   ],
   "source": [
    "sample_set = {1,2,3,4,35.6,\"hi\",2}\n",
    "sample_set"
   ]
  },
  {
   "cell_type": "code",
   "execution_count": 33,
   "id": "b2f63b87",
   "metadata": {},
   "outputs": [
    {
     "data": {
      "text/plain": [
       "{1, 100, 2, 3, 35.6, 4, 'hi'}"
      ]
     },
     "execution_count": 33,
     "metadata": {},
     "output_type": "execute_result"
    }
   ],
   "source": [
    "sample_set.add(100)\n",
    "sample_set"
   ]
  },
  {
   "cell_type": "code",
   "execution_count": 34,
   "id": "c8800427",
   "metadata": {},
   "outputs": [],
   "source": [
    "sample_set.remove(\"hi\")"
   ]
  },
  {
   "cell_type": "code",
   "execution_count": 35,
   "id": "c7591536",
   "metadata": {},
   "outputs": [
    {
     "data": {
      "text/plain": [
       "{1, 2, 3, 4, 35.6, 100}"
      ]
     },
     "execution_count": 35,
     "metadata": {},
     "output_type": "execute_result"
    }
   ],
   "source": [
    "sample_set"
   ]
  },
  {
   "cell_type": "markdown",
   "id": "d21aabd5",
   "metadata": {},
   "source": [
    "# dictionary\n",
    "### key-value pair data structure \n",
    "### key is unique values can be changed(mutable)\n",
    "### value can br retrived using key\n",
    "### key cannot be retrived using value"
   ]
  },
  {
   "cell_type": "code",
   "execution_count": 1,
   "id": "1ac7d031",
   "metadata": {},
   "outputs": [
    {
     "data": {
      "text/plain": [
       "{1: 'apple', 2: 'hi', 3: 'data', 6: 35, 7: 45}"
      ]
     },
     "execution_count": 1,
     "metadata": {},
     "output_type": "execute_result"
    }
   ],
   "source": [
    "sample_dict = {1 : \"apple\",2 : 35.5,3 : \"data\",2 : \"every\",6 :35,7:45,2:\"hi\"}\n",
    "sample_dict"
   ]
  },
  {
   "cell_type": "code",
   "execution_count": 3,
   "id": "37252393",
   "metadata": {},
   "outputs": [
    {
     "data": {
      "text/plain": [
       "'data'"
      ]
     },
     "execution_count": 3,
     "metadata": {},
     "output_type": "execute_result"
    }
   ],
   "source": [
    "sample_dict[3]"
   ]
  },
  {
   "cell_type": "code",
   "execution_count": 4,
   "id": "20b28eb1",
   "metadata": {},
   "outputs": [
    {
     "ename": "KeyError",
     "evalue": "'data'",
     "output_type": "error",
     "traceback": [
      "\u001b[1;31m---------------------------------------------------------------------------\u001b[0m",
      "\u001b[1;31mKeyError\u001b[0m                                  Traceback (most recent call last)",
      "Input \u001b[1;32mIn [4]\u001b[0m, in \u001b[0;36m<cell line: 1>\u001b[1;34m()\u001b[0m\n\u001b[1;32m----> 1\u001b[0m \u001b[43msample_dict\u001b[49m\u001b[43m[\u001b[49m\u001b[38;5;124;43m\"\u001b[39;49m\u001b[38;5;124;43mdata\u001b[39;49m\u001b[38;5;124;43m\"\u001b[39;49m\u001b[43m]\u001b[49m\n",
      "\u001b[1;31mKeyError\u001b[0m: 'data'"
     ]
    }
   ],
   "source": [
    "sample_dict[\"data\"]"
   ]
  },
  {
   "cell_type": "code",
   "execution_count": 5,
   "id": "59764f6c",
   "metadata": {},
   "outputs": [],
   "source": [
    "sample_dict[7] = 100"
   ]
  },
  {
   "cell_type": "code",
   "execution_count": 6,
   "id": "0f62f368",
   "metadata": {},
   "outputs": [
    {
     "data": {
      "text/plain": [
       "{1: 'apple', 2: 'hi', 3: 'data', 6: 35, 7: 100}"
      ]
     },
     "execution_count": 6,
     "metadata": {},
     "output_type": "execute_result"
    }
   ],
   "source": [
    "sample_dict"
   ]
  },
  {
   "cell_type": "code",
   "execution_count": 7,
   "id": "bfab97cb",
   "metadata": {},
   "outputs": [],
   "source": [
    "sample_dict[2] = \"business\""
   ]
  },
  {
   "cell_type": "code",
   "execution_count": 8,
   "id": "bef597c2",
   "metadata": {},
   "outputs": [
    {
     "data": {
      "text/plain": [
       "{1: 'apple', 2: 'business', 3: 'data', 6: 35, 7: 100}"
      ]
     },
     "execution_count": 8,
     "metadata": {},
     "output_type": "execute_result"
    }
   ],
   "source": [
    "sample_dict"
   ]
  },
  {
   "cell_type": "code",
   "execution_count": null,
   "id": "d8487fee",
   "metadata": {},
   "outputs": [],
   "source": []
  }
 ],
 "metadata": {
  "kernelspec": {
   "display_name": "Python 3 (ipykernel)",
   "language": "python",
   "name": "python3"
  },
  "language_info": {
   "codemirror_mode": {
    "name": "ipython",
    "version": 3
   },
   "file_extension": ".py",
   "mimetype": "text/x-python",
   "name": "python",
   "nbconvert_exporter": "python",
   "pygments_lexer": "ipython3",
   "version": "3.9.12"
  }
 },
 "nbformat": 4,
 "nbformat_minor": 5
}
